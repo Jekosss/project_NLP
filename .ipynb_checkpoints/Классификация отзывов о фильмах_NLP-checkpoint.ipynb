{
 "cells": [
  {
   "cell_type": "markdown",
   "id": "6861c4ca-ab22-47d5-b6b8-47ab5fc94ba3",
   "metadata": {},
   "source": [
    "# Классификация отзывов о кинофильмах 📺"
   ]
  },
  {
   "cell_type": "markdown",
   "id": "587b9eda-a500-4bad-8c42-6ffa005ee506",
   "metadata": {},
   "source": [
    "Для классификации отзывов создадим модель, которая в своей основе будет использовать несложный алгоритм **Linear Support Vector**, удобный для работы с большими выборками."
   ]
  },
  {
   "cell_type": "markdown",
   "id": "6b608fbb-0ef2-47a6-96ff-81d02d4a87f4",
   "metadata": {},
   "source": [
    "**Описание проекта:** \n",
    "\n",
    "**Цель проекта:** Разработка модели машинного обучения, которая поможет классифицировать отзывы в зависимости от набора слов в отзыве и его структуры\n",
    "\n",
    "**Ход исследования:**\n",
    "- Подготовка данных: загрузка в массив тектовых данных и получение общей информации\n",
    "- Предобработка данных: получение признаков из текстовых данных, нормализация значений\n",
    "- Задача LinearSVC(классификации): обучение модели, оценка метрик, анализ полученных результатов\n"
   ]
  },
  {
   "cell_type": "markdown",
   "id": "66179f2f-5b36-4630-8b0a-712e83eab479",
   "metadata": {},
   "source": [
    "**Содержание**<a id='toc0_'></a>    \n",
    "  \n",
    "1. [Подготовка данных](#toc1_)                                  \n",
    "  1.1 [Установка библиотек](#toc1_1_)    \n",
    "  1.2 [Загрузка данных в массив и получение общей информации](#toc1_2_) \n",
    "  \n",
    "2. [Предобработка данных](#toc2_)         \n",
    "  2.1 [Получение признаков из текстовых данных](#toc2_1_)    \n",
    "  2.2 [Построение модели классификатора и оценка метрик полученной модели](#toc2_2_)\n",
    "\n",
    "   \n",
    "4. [Общий вывод](#toc6_)"
   ]
  },
  {
   "cell_type": "markdown",
   "id": "6c109adc-049d-48f2-a7ad-563608ad9c9f",
   "metadata": {},
   "source": [
    "## <a id='toc1_'></a> 1 Подготовка данных[&#8593;](#toc0_)"
   ]
  },
  {
   "cell_type": "markdown",
   "id": "c4befd20-f23e-4a61-9868-b92f809664cb",
   "metadata": {},
   "source": [
    "### <a id='toc1_1_'></a>1.1 Установка библиотек      [&#8593;](#toc0_)"
   ]
  },
  {
   "cell_type": "code",
   "execution_count": 1,
   "id": "d017dc89-cd7b-48fd-a6a8-9861a03e2c7c",
   "metadata": {},
   "outputs": [],
   "source": [
    "from IPython.display import clear_output"
   ]
  },
  {
   "cell_type": "code",
   "execution_count": 2,
   "id": "54bea0bc-332a-499b-b6cd-cc577a2adc77",
   "metadata": {},
   "outputs": [],
   "source": [
    "#from platform import python_version\n",
    "#version = python_version()\n",
    "\n",
    "#if version.startswith('3.9'):  \n",
    "#    pass\n",
    "#    %pip install --force-reinstall -v \"numpy==1.22.4\" -q\n",
    "#else: \n",
    "#    pass\n",
    "#    %pip install --upgrade numpy -q   \n",
    "\n",
    "#%pip install --force-reinstall -v \"matplotlib==3.8.0\" -q\n",
    "\n",
    "#%pip install --upgrade phik -q\n",
    "#%pip install --upgrade prettytable -q\n",
    "#%pip install --upgrade termcolor -q\n",
    "#%pip install --upgrade seaborn -q\n",
    "#%pip install --upgrade pandas -q\n",
    "#%pip install --upgrade statsmodels -q\n",
    "#%pip install --upgrade scikit-learn -q\n",
    "#%pip install --upgrade shap -q\n",
    "\n",
    "#clear_output()"
   ]
  },
  {
   "cell_type": "code",
   "execution_count": 3,
   "id": "e721c3fe-a308-48c4-a9ff-bd66412888ef",
   "metadata": {},
   "outputs": [],
   "source": [
    "import os\n",
    "\n",
    "import numpy as np\n",
    "import pandas as pd\n",
    "import seaborn as sns\n",
    "import matplotlib.pyplot as plt\n",
    "import shap\n",
    "from os import path\n",
    "\n",
    "from statsmodels.stats.outliers_influence import variance_inflation_factor\n",
    "from statsmodels.tools.tools import add_constant\n",
    "\n",
    "from sklearn.feature_extraction.text import CountVectorizer\n",
    "from sklearn.feature_extraction.text import TfidfTransformer\n",
    "from sklearn.model_selection import RandomizedSearchCV\n",
    "from sklearn.svm import LinearSVC\n",
    "from sklearn.model_selection import GridSearchCV \n",
    "\n",
    "from sklearn.metrics import (\n",
    "    accuracy_score,\n",
    "    recall_score,\n",
    "    precision_score,\n",
    "    f1_score,\n",
    "    ConfusionMatrixDisplay,\n",
    "    classification_report,\n",
    "    PrecisionRecallDisplay)"
   ]
  },
  {
   "cell_type": "markdown",
   "id": "35dc60c8-d8f0-4453-8887-744319a4c657",
   "metadata": {},
   "source": [
    "### <a id='toc1_2_'></a>1.2 Загрузка данных в массив и получение общей информации  [&#8593;](#toc0_)"
   ]
  },
  {
   "cell_type": "code",
   "execution_count": 4,
   "id": "4ddacbd8-2cd6-4dbc-bc26-126bb81d48a0",
   "metadata": {},
   "outputs": [],
   "source": [
    "#функция формирования массива из отзывов\n",
    "def put_text_data(path, label = None):\n",
    "    \n",
    "    X = []\n",
    "    for review in os.listdir(path):\n",
    "        with open(os.path.join(path,review), encoding=\"utf-8\") as f:\n",
    "            rev = f.read()\n",
    "            \n",
    "        X.append(rev)\n",
    "        \n",
    "    y = [label]*len(X)\n",
    "        \n",
    "    return X, y\n",
    "\n",
    "# Путь папки\n",
    "positive_review_train = \"aclImdb_v1/train/pos\"\n",
    "negative_review_train = \"aclImdb_v1/train/neg\"\n",
    "\n",
    "X_train,y_train = put_text_data(positive_review_train, label=1)\n",
    "X_neg, y_neg = put_text_data(negative_review_train, label=0)\n",
    "\n",
    "X_train += X_neg\n",
    "y_train += y_neg"
   ]
  },
  {
   "cell_type": "code",
   "execution_count": 5,
   "id": "a14e0fed-b900-4355-9df2-f8307f5c2bbd",
   "metadata": {},
   "outputs": [
    {
     "data": {
      "text/plain": [
       "\"This isn't the comedic Robin Williams, nor is it the quirky/insane Robin Williams of recent thriller fame. This is a hybrid of the classic drama without over-dramatization, mixed with Robin's new love of the thriller. But this isn't a thriller, per se. This is more a mystery/suspense vehicle through which Williams attempts to locate a sick boy and his keeper.<br /><br />Also starring Sandra Oh and Rory Culkin, this Suspense Drama plays pretty much like a news report, until William's character gets close to achieving his goal.<br /><br />I must say that I was highly entertained, though this movie fails to teach, guide, inspect, or amuse. It felt more like I was watching a guy (Williams), as he was actually performing the actions, from a third person perspective. In other words, it felt real, and I was able to subscribe to the premise of the story.<br /><br />All in all, it's worth a watch, though it's definitely not Friday/Saturday night fare.<br /><br />It rates a 7.7/10 from...<br /><br />the Fiend :.\""
      ]
     },
     "execution_count": 5,
     "metadata": {},
     "output_type": "execute_result"
    }
   ],
   "source": [
    "X_train[5]"
   ]
  },
  {
   "cell_type": "code",
   "execution_count": 6,
   "id": "01c173d7-ce4f-4b97-bda6-d63824513bed",
   "metadata": {},
   "outputs": [
    {
     "data": {
      "text/plain": [
       "[1, 1, 1, 1, 1]"
      ]
     },
     "execution_count": 6,
     "metadata": {},
     "output_type": "execute_result"
    }
   ],
   "source": [
    "y_train[:5]"
   ]
  },
  {
   "cell_type": "code",
   "execution_count": 7,
   "id": "b8ddb045-8495-4978-9f58-10cb6be1368a",
   "metadata": {},
   "outputs": [],
   "source": [
    "positive_review_test = \"aclImdb_v1/test/pos\"\n",
    "negative_review_test = \"aclImdb_v1/test/neg\"\n",
    "\n",
    "X_test,y_test = put_text_data(positive_review_test, label=1)\n",
    "X_neg_test, y_neg_test = put_text_data(negative_review_test, label=0)\n",
    "\n",
    "X_test += X_neg_test\n",
    "y_test += y_neg_test"
   ]
  },
  {
   "cell_type": "code",
   "execution_count": 8,
   "id": "b6d17f07-b222-48c4-80af-e4f8158a49e2",
   "metadata": {},
   "outputs": [
    {
     "data": {
      "text/plain": [
       "\"I was stunned by this film. I have been renting Antonioni's films/rediscovering them, and this film showed me the climax and fruits of his 50 years of directing. What an eye for setting, color, and detail! I have never seen such visual beauty and poetry filmed before. I had to stop after the first story and hold back the tears. Yes, beauty moves me, like it moved Keats to write Ode on a Grecian Urn. This movie is made for the mature, emotionally and intellectually, audience. Those hoping to see physical action and soap opera will be disappointed. I will have to see this film several times before I can truly appreciate it and judge it. This film should be required viewing for all cinematographers and directors.<br /><br />Possibly a truly great film, on the order of Kurosawa's Dreams.\""
      ]
     },
     "execution_count": 8,
     "metadata": {},
     "output_type": "execute_result"
    }
   ],
   "source": [
    "X_test[435]"
   ]
  },
  {
   "cell_type": "code",
   "execution_count": 9,
   "id": "86776207-a115-412e-a74f-89d04ed47908",
   "metadata": {
    "scrolled": true
   },
   "outputs": [
    {
     "data": {
      "text/plain": [
       "[0, 0, 0, 0, 0]"
      ]
     },
     "execution_count": 9,
     "metadata": {},
     "output_type": "execute_result"
    }
   ],
   "source": [
    "y_test[14560:14565]"
   ]
  },
  {
   "cell_type": "markdown",
   "id": "701205d7-c5a3-4b76-9aaf-772002717450",
   "metadata": {},
   "source": [
    "## <a id='toc2_'></a> 2 Предобработка данных и построение модели классификатора[&#8593;](#toc0_)"
   ]
  },
  {
   "cell_type": "markdown",
   "id": "5b59842d-25c2-44db-9d63-acd7d8c96cf9",
   "metadata": {},
   "source": [
    "### <a id='toc2_1_'></a>2.1 Получение признаков из текстовых данных  [&#8593;](#toc0_)"
   ]
  },
  {
   "cell_type": "markdown",
   "id": "61147055-bc5c-40b2-bce1-caf5c9929f6f",
   "metadata": {},
   "source": [
    "С помощью класса CountVectorizer сформируем матрицу подсчета признаков, далее отфильтруем стоп-слова и применим к объекту метод *fit_transform*"
   ]
  },
  {
   "cell_type": "code",
   "execution_count": 10,
   "id": "72590d89-5659-4086-8c0b-5a3affeb7041",
   "metadata": {},
   "outputs": [],
   "source": [
    "X_train = list(map(lambda x: x.lower(), X_train))"
   ]
  },
  {
   "cell_type": "code",
   "execution_count": 11,
   "id": "0c99cc6c-f840-45c5-a051-2e9fa78e38c3",
   "metadata": {},
   "outputs": [],
   "source": [
    "freq_vector = CountVectorizer(stop_words=\"english\")\n",
    "X_train_freq = freq_vector.fit_transform(X_train)"
   ]
  },
  {
   "cell_type": "code",
   "execution_count": 12,
   "id": "8c4b028d-f274-495c-9604-0c1ccb471018",
   "metadata": {},
   "outputs": [
    {
     "data": {
      "text/plain": [
       "(25000, 74538)"
      ]
     },
     "execution_count": 12,
     "metadata": {},
     "output_type": "execute_result"
    }
   ],
   "source": [
    "X_train_freq.shape"
   ]
  },
  {
   "cell_type": "code",
   "execution_count": 13,
   "id": "8dcc5b27-16ea-4b04-a460-895738baedc6",
   "metadata": {},
   "outputs": [
    {
     "name": "stdout",
     "output_type": "stream",
     "text": [
      "  (0, 9199)\t4\n",
      "  (0, 30780)\t5\n",
      "  (0, 10792)\t1\n",
      "  (0, 13439)\t1\n",
      "  (0, 53226)\t1\n",
      "  (0, 66667)\t1\n",
      "  (0, 51733)\t1\n",
      "  (0, 57822)\t2\n",
      "  (0, 38539)\t1\n",
      "  (0, 65517)\t4\n",
      "  (0, 646)\t1\n",
      "  (0, 73853)\t1\n",
      "  (0, 65519)\t1\n",
      "  (0, 51674)\t1\n",
      "  (0, 37936)\t1\n",
      "  (0, 6676)\t1\n",
      "  (0, 57377)\t1\n",
      "  (0, 12877)\t1\n",
      "  (0, 53623)\t1\n",
      "  (0, 58015)\t1\n",
      "  (0, 64454)\t1\n",
      "  (0, 24531)\t1\n",
      "  (0, 33687)\t1\n",
      "  (0, 63540)\t2\n",
      "  (0, 55624)\t1\n",
      "  :\t:\n",
      "  (0, 60278)\t1\n",
      "  (0, 54585)\t1\n",
      "  (0, 57843)\t1\n",
      "  (0, 36725)\t1\n",
      "  (0, 57489)\t1\n",
      "  (0, 22138)\t1\n",
      "  (0, 63539)\t2\n",
      "  (0, 54747)\t1\n",
      "  (0, 67881)\t1\n",
      "  (0, 9713)\t1\n",
      "  (0, 32599)\t1\n",
      "  (0, 53760)\t1\n",
      "  (0, 12618)\t1\n",
      "  (0, 38727)\t1\n",
      "  (0, 33728)\t1\n",
      "  (0, 56818)\t1\n",
      "  (0, 72267)\t1\n",
      "  (0, 23036)\t1\n",
      "  (0, 1916)\t1\n",
      "  (0, 2148)\t1\n",
      "  (0, 66277)\t1\n",
      "  (0, 23697)\t1\n",
      "  (0, 24240)\t1\n",
      "  (0, 49956)\t1\n",
      "  (0, 34508)\t1\n"
     ]
    }
   ],
   "source": [
    "print(X_train_freq[0])"
   ]
  },
  {
   "cell_type": "markdown",
   "id": "6326c52a-1f15-44d0-8e1e-1c3c5079766b",
   "metadata": {},
   "source": [
    "Получили матрицу 25000(отзывов) * 74538(признаков). Однако далее необходимо использовать *tf-idf* нормализацию черед класс *TfidfTransformer* для правильной оценки важности слова в контексте и последующего использования классификатора."
   ]
  },
  {
   "cell_type": "code",
   "execution_count": 14,
   "id": "907cc801-ad14-4dcc-9a29-99f7b9562933",
   "metadata": {},
   "outputs": [
    {
     "data": {
      "text/plain": [
       "(25000, 74538)"
      ]
     },
     "execution_count": 14,
     "metadata": {},
     "output_type": "execute_result"
    }
   ],
   "source": [
    "tfidf_transf = TfidfTransformer()\n",
    "\n",
    "X_train_tfidf = tfidf_transf.fit_transform(X_train_freq)\n",
    "X_train_tfidf.shape"
   ]
  },
  {
   "cell_type": "code",
   "execution_count": 15,
   "id": "4e4d5638-3982-41e8-9f23-3c4e7b33244a",
   "metadata": {},
   "outputs": [
    {
     "name": "stdout",
     "output_type": "stream",
     "text": [
      "  (0, 646)\t0.09950642666206079\n",
      "  (0, 1916)\t0.08073775439629033\n",
      "  (0, 2148)\t0.06438769529032586\n",
      "  (0, 6676)\t0.051941420087786\n",
      "  (0, 9199)\t0.5772503909164747\n",
      "  (0, 9713)\t0.09538301599158688\n",
      "  (0, 10792)\t0.07913098265733552\n",
      "  (0, 12618)\t0.05727843464898374\n",
      "  (0, 12877)\t0.089075214570716\n",
      "  (0, 13439)\t0.05098467958192371\n",
      "  (0, 22138)\t0.06418644393167458\n",
      "  (0, 23036)\t0.06296090780801142\n",
      "  (0, 23697)\t0.04974869686257912\n",
      "  (0, 24240)\t0.09903982697813044\n",
      "  (0, 24531)\t0.11765768264615056\n",
      "  (0, 30780)\t0.2731811170117419\n",
      "  (0, 32599)\t0.07659472333070096\n",
      "  (0, 33687)\t0.10541951846908007\n",
      "  (0, 33728)\t0.09716899470026802\n",
      "  (0, 34508)\t0.049483957569128594\n",
      "  (0, 36725)\t0.06690804012441706\n",
      "  (0, 37936)\t0.0615273015941826\n",
      "  (0, 38539)\t0.04077011656974736\n",
      "  (0, 38727)\t0.056629434433363664\n",
      "  (0, 48500)\t0.07662962160443158\n",
      "  :\t:\n",
      "  (0, 51674)\t0.10613602781863565\n",
      "  (0, 51733)\t0.10589340995081518\n",
      "  (0, 53226)\t0.08652381502473248\n",
      "  (0, 53623)\t0.06733730663061728\n",
      "  (0, 53760)\t0.12406958507484815\n",
      "  (0, 54585)\t0.09234018739106409\n",
      "  (0, 54747)\t0.09637768682184795\n",
      "  (0, 55624)\t0.048463481122552915\n",
      "  (0, 56818)\t0.11168479645239093\n",
      "  (0, 57377)\t0.08756518247979478\n",
      "  (0, 57489)\t0.04858391224346199\n",
      "  (0, 57822)\t0.1211054367996911\n",
      "  (0, 57843)\t0.10741100478166513\n",
      "  (0, 58015)\t0.13921057053718122\n",
      "  (0, 60278)\t0.07164282898149181\n",
      "  (0, 63539)\t0.1609307051624481\n",
      "  (0, 63540)\t0.16655001927445942\n",
      "  (0, 64454)\t0.08561244159902248\n",
      "  (0, 65517)\t0.4207520532483406\n",
      "  (0, 65519)\t0.10246175765544503\n",
      "  (0, 66277)\t0.03828102941313861\n",
      "  (0, 66667)\t0.03110867701212803\n",
      "  (0, 67881)\t0.06927310032326618\n",
      "  (0, 72267)\t0.08785539790788267\n",
      "  (0, 73853)\t0.04435695651498346\n"
     ]
    }
   ],
   "source": [
    "print(X_train_tfidf[0])"
   ]
  },
  {
   "cell_type": "markdown",
   "id": "9ee74990-6a6e-46cd-bb94-50b1d1c15309",
   "metadata": {},
   "source": [
    "Признаки получены корректно, теперь проделаем те же шаги с преобразованием тестовой выборки:"
   ]
  },
  {
   "cell_type": "code",
   "execution_count": 16,
   "id": "b0b518e2-855d-4e0d-a63f-90b02a9a0282",
   "metadata": {},
   "outputs": [],
   "source": [
    "X_test = list(map(lambda x: x.lower(), X_test))"
   ]
  },
  {
   "cell_type": "code",
   "execution_count": 17,
   "id": "3adb14e9-b4aa-4cf6-89db-b839a791e510",
   "metadata": {},
   "outputs": [
    {
     "data": {
      "text/plain": [
       "(25000, 74538)"
      ]
     },
     "execution_count": 17,
     "metadata": {},
     "output_type": "execute_result"
    }
   ],
   "source": [
    "X_test_freq = freq_vector.transform(X_test)\n",
    "X_test_freq.shape"
   ]
  },
  {
   "cell_type": "code",
   "execution_count": 18,
   "id": "5e9c0913-1cf7-4a75-a8ee-474b650b405b",
   "metadata": {},
   "outputs": [
    {
     "data": {
      "text/plain": [
       "(25000, 74538)"
      ]
     },
     "execution_count": 18,
     "metadata": {},
     "output_type": "execute_result"
    }
   ],
   "source": [
    "X_test_tfidf = tfidf_transf.transform(X_test_freq)\n",
    "X_test_tfidf.shape"
   ]
  },
  {
   "cell_type": "markdown",
   "id": "73b94057-fb02-4030-91d5-908249f11310",
   "metadata": {},
   "source": [
    "### <a id='toc2_2_'></a>2.2 Построение модели классификатора и оценка метрик полученной модели [&#8593;](#toc0_)"
   ]
  },
  {
   "cell_type": "markdown",
   "id": "a8cb0559-2d5f-471b-bcdf-b87e31b078a9",
   "metadata": {},
   "source": [
    "Обучим классификатор (с *GridSearchCV* для выполнения поиска по сетке в диапазоне значений гиперпараметра C) и получим предсказания необходимых нам результатов:"
   ]
  },
  {
   "cell_type": "code",
   "execution_count": 19,
   "id": "36339e0a-a911-4507-8f9d-4f727fbb6cd7",
   "metadata": {},
   "outputs": [],
   "source": [
    "param_grid = {'C': [0.001, 0.01, 0.1, 1, 10, 100]}\n",
    "\n",
    "classifier = LinearSVC(loss='squared_hinge', max_iter=10000, random_state=0)\n",
    "classifier_rec = GridSearchCV(classifier, param_grid, cv=5)\n",
    "classifier_rec.fit(X_train_tfidf, y_train)\n",
    "y_pred = classifier_rec.predict(X_test_tfidf)"
   ]
  },
  {
   "cell_type": "markdown",
   "id": "9c17ea87-3bbc-4b37-a690-765164e91f94",
   "metadata": {},
   "source": [
    "Построим сетку неточностей для классификации и оценим метрики *accuracy* и *f1*:"
   ]
  },
  {
   "cell_type": "code",
   "execution_count": 20,
   "id": "b5e6c760-368b-4ab4-83b3-be28fd0ad453",
   "metadata": {},
   "outputs": [
    {
     "data": {
      "image/png": "[encoded data removed]",
      "text/plain": [
       "<Figure size 640x480 with 2 Axes>"
      ]
     },
     "metadata": {},
     "output_type": "display_data"
    }
   ],
   "source": [
    "# Построение ненормализованной матрицы неточностей\n",
    "ConfusionMatrixDisplay.from_predictions(y_test, y_pred, cmap='Greens');"
   ]
  },
  {
   "cell_type": "code",
   "execution_count": 21,
   "id": "c07ca9c6-ab4c-430f-8e15-d0e9bb95a67e",
   "metadata": {},
   "outputs": [
    {
     "data": {
      "text/plain": [
       "0.87984"
      ]
     },
     "execution_count": 21,
     "metadata": {},
     "output_type": "execute_result"
    }
   ],
   "source": [
    "accuracy_score(y_test,y_pred)"
   ]
  },
  {
   "cell_type": "code",
   "execution_count": 22,
   "id": "dfa52a97-d756-4e77-bf8c-a05abf85656c",
   "metadata": {},
   "outputs": [
    {
     "data": {
      "text/plain": [
       "0.8801468241302266"
      ]
     },
     "execution_count": 22,
     "metadata": {},
     "output_type": "execute_result"
    }
   ],
   "source": [
    "f1_score(y_test,y_pred)"
   ]
  },
  {
   "cell_type": "markdown",
   "id": "b86120a4-714c-49c8-b085-241c8a964f85",
   "metadata": {},
   "source": [
    "## <a id='toc3_'></a> 3 Общий вывод[&#8593;](#toc0_)"
   ]
  },
  {
   "cell_type": "markdown",
   "id": "42340314-0a77-47d9-85e3-19ddc318b8d7",
   "metadata": {},
   "source": [
    "Обучив модель и оценив полученные предсказания можем сделать такой вывод:\n",
    "\n",
    "Модель работает относительно корректно и основные метрики показывают результат, близкий к 0,9.\n",
    "В качестве основной метрики стоит брать *f1* для обеспечения более полной оценки производительности модели в связи с уравновешиванием показателей точности и полноты с помощью среднего гармонического."
   ]
  },
  {
   "cell_type": "code",
   "execution_count": null,
   "id": "857947ed-6cd0-4e79-b1f3-98e8e41359dd",
   "metadata": {},
   "outputs": [],
   "source": []
  }
 ],
 "metadata": {
  "kernelspec": {
   "display_name": "Python 3 (ipykernel)",
   "language": "python",
   "name": "python3"
  },
  "language_info": {
   "codemirror_mode": {
    "name": "ipython",
    "version": 3
   },
   "file_extension": ".py",
   "mimetype": "text/x-python",
   "name": "python",
   "nbconvert_exporter": "python",
   "pygments_lexer": "ipython3",
   "version": "3.9.19"
  }
 },
 "nbformat": 4,
 "nbformat_minor": 5
}
